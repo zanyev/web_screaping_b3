{
 "cells": [
  {
   "cell_type": "code",
   "execution_count": 1,
   "metadata": {},
   "outputs": [],
   "source": [
    "from selenium import webdriver\n",
    "from selenium.webdriver.chrome.service import Service\n",
    "from webdriver_manager.chrome import ChromeDriverManager\n",
    "from selenium.webdriver.common.by import By\n",
    "from selenium.webdriver.common.keys import Keys\n",
    "from io import StringIO\n",
    "\n",
    "# Set up WebDriver with webdriver-manager\n",
    "driver = webdriver.Chrome(service=Service(ChromeDriverManager().install()))\n",
    "\n",
    "# Open a website\n",
    "driver.get(\"https://www2.bmf.com.br/pages/portal/bmfbovespa/lumis/lum-ajustes-do-pregao-ptBR.asp\")"
   ]
  },
  {
   "cell_type": "code",
   "execution_count": 2,
   "metadata": {},
   "outputs": [],
   "source": [
    "from selenium import webdriver\n",
    "from selenium.webdriver.chrome.service import Service\n",
    "from webdriver_manager.chrome import ChromeDriverManager\n",
    "from selenium.webdriver.common.by import By\n",
    "from selenium.webdriver.common.keys import Keys\n",
    "from io import StringIO\n",
    "import pandas as pd\n",
    "from selenium.webdriver.common.action_chains import ActionChains\n",
    "import time\n",
    "\n",
    "def atualizar_pagina(ele_pesquisa,data_br,ele_ok):\n",
    "    # Focus on the search bar and clear it by selecting all text and pressing backspace\n",
    "    actions = ActionChains(driver)\n",
    "    actions.click(ele_pesquisa)  # Focus on the search bar\n",
    "    actions.key_down(Keys.CONTROL).send_keys(\"a\").key_up(Keys.CONTROL)  # Ctrl + A to select all\n",
    "    actions.send_keys(Keys.BACKSPACE)  # Press Backspace to delete the selected text\n",
    "    actions.send_keys(data_br)  # Press Backspace to delete the selected text\n",
    "    actions.send_keys(Keys.ENTER)\n",
    "    actions.click(ele_ok) \n",
    "    actions.perform()\n",
    "\n",
    "\n",
    "def get_table(ele_table):\n",
    "    table_data = StringIO(ele_table.get_attribute(\"outerHTML\"))\n",
    "    precos_ajustes = pd.read_html(table_data,thousands='^')[0]\n",
    "    return precos_ajustes"
   ]
  },
  {
   "cell_type": "code",
   "execution_count": null,
   "metadata": {},
   "outputs": [],
   "source": [
    "data_range = pd.date_range('2010-02-19','2025-02-24',freq='B')\n",
    "for data in data_range[0:]:\n",
    "    data_br = data.strftime(format='%d-%m-%Y')\n",
    "    ele_pesquisa = driver.find_element(By.XPATH,'//*[@id=\"dData1\"]')\n",
    "    ele_ok = driver.find_element(By.XPATH,'//*[@id=\"divContainerIframeBmf\"]/div[1]/div/form/div/div[2]/button')\n",
    "    atualizar_pagina(ele_pesquisa,data_br,ele_ok)\n",
    "    time.sleep(1)\n",
    "    try:\n",
    "        ele_table = driver.find_element(By.CSS_SELECTOR,'#tblDadosAjustes')\n",
    "        precos_ajustes = get_table(ele_table)\n",
    "        precos_ajustes['data'] = data\n",
    "        precos_ajustes.to_csv(f'./tabelas/{data.date()}.csv')\n",
    "    except:\n",
    "        precos_ajustes = []\n",
    "    time.sleep(1)\n"
   ]
  },
  {
   "cell_type": "code",
   "execution_count": null,
   "metadata": {},
   "outputs": [],
   "source": []
  }
 ],
 "metadata": {
  "kernelspec": {
   "display_name": "ctt_futuro",
   "language": "python",
   "name": "python3"
  },
  "language_info": {
   "codemirror_mode": {
    "name": "ipython",
    "version": 3
   },
   "file_extension": ".py",
   "mimetype": "text/x-python",
   "name": "python",
   "nbconvert_exporter": "python",
   "pygments_lexer": "ipython3",
   "version": "3.12.4"
  }
 },
 "nbformat": 4,
 "nbformat_minor": 2
}
